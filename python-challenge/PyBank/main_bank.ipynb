{
 "cells": [
  {
   "cell_type": "code",
   "execution_count": 7,
   "metadata": {},
   "outputs": [
    {
     "name": "stdout",
     "output_type": "stream",
     "text": [
      "Financial Analysis\n",
      "----------------------------\n",
      "Total Months: 86\n",
      "Total: $38382578\n",
      "Average Change: $-2315.12\n",
      "Greatest Increase in Profits: Feb-12 ($1926159)\n",
      "Greatest Decrease in Profits: Sep-13 ($-2196167)\n"
     ]
    }
   ],
   "source": [
    "import os\n",
    "import csv\n",
    "\n",
    "budget_path = os.path.join(\"budget_data2.csv\")\n",
    "\n",
    "with open(budget_path, newline='') as budget_csv:\n",
    "    csvreader = csv.reader(budget_csv, delimiter=',')\n",
    "    dates = []\n",
    "    profits = []\n",
    "    changes = []\n",
    "    \n",
    "    csv_header = next(csvreader)\n",
    "    \n",
    "    for row in csvreader:\n",
    "        dates.append(row[0])\n",
    "        profits.append(int(row[1]))\n",
    "\n",
    "    for row in range(1, len(profits)):\n",
    "        changes.append(profits[row] - profits[row-1])\n",
    "        averagechange = round(sum(changes)/len(changes),2)\n",
    "        maxchange = max(changes)\n",
    "        minchange = min(changes)\n",
    "        maxchangedate = str(dates[changes.index(max(changes))+1])\n",
    "        minchangedate = str(dates[changes.index(min(changes))+1])\n",
    "    print(\"Financial Analysis\")\n",
    "    print(\"----------------------------\")\n",
    "    print(f\"Total Months: {len(dates)}\")\n",
    "    print(f\"Total: ${sum(profits)}\")\n",
    "    print(f\"Average Change: ${averagechange}\")\n",
    "    print(f\"Greatest Increase in Profits: {maxchangedate} (${maxchange})\")\n",
    "    print(f\"Greatest Decrease in Profits: {minchangedate} (${minchange})\")\n",
    "\n"
   ]
  },
  {
   "cell_type": "code",
   "execution_count": 8,
   "metadata": {},
   "outputs": [],
   "source": [
    "output_path = os.path.join(\"pyBanktxt.txt\")\n",
    "with open(output_path, 'w', newline='') as csvfile:\n",
    "    csvwriter = csv.writer(csvfile, delimiter=',')\n",
    "\n",
    "    csvwriter.writerow([\"Financial Analysis\"])\n",
    "    csvwriter.writerow([\"----------------------------\"])\n",
    "    csvwriter.writerow([f\"Total Months: {len(dates)}\"])\n",
    "    csvwriter.writerow([f\"Total: ${sum(profits)}\"])\n",
    "    csvwriter.writerow([f\"Average Change: ${averagechange}\"])\n",
    "    csvwriter.writerow([f\"Greatest Increase in Profits: {maxchangedate} (${maxchange})\"])\n",
    "    csvwriter.writerow([f\"Greatest Decrease in Profits: {minchangedate} (${minchange})\"])\n"
   ]
  },
  {
   "cell_type": "code",
   "execution_count": null,
   "metadata": {},
   "outputs": [],
   "source": []
  }
 ],
 "metadata": {
  "kernelspec": {
   "display_name": "Python 3",
   "language": "python",
   "name": "python3"
  },
  "language_info": {
   "codemirror_mode": {
    "name": "ipython",
    "version": 3
   },
   "file_extension": ".py",
   "mimetype": "text/x-python",
   "name": "python",
   "nbconvert_exporter": "python",
   "pygments_lexer": "ipython3",
   "version": "3.7.0"
  }
 },
 "nbformat": 4,
 "nbformat_minor": 2
}
