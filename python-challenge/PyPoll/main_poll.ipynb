{
 "cells": [
  {
   "cell_type": "code",
   "execution_count": 19,
   "metadata": {},
   "outputs": [
    {
     "name": "stdout",
     "output_type": "stream",
     "text": [
      "Election Results\n",
      "---------------------------\n",
      "Total Votes: 3521001\n",
      "---------------------------\n",
      "Li: 14% (492940)\n",
      "Khan: 63% (2218231)\n",
      "O'Tooley: 3% (105630)\n",
      "Correy: 20% (704200)\n",
      "---------------------------\n",
      "Winner: Khan\n"
     ]
    }
   ],
   "source": [
    "#The total number of votes cast\n",
    "#A complete list of candidates who received votes\n",
    "#The percentage of votes each candidate won\n",
    "#The total number of votes each candidate won\n",
    "#The winner of the election based on popular vote.\n",
    "\n",
    "import os\n",
    "import csv\n",
    "\n",
    "poll_path = os.path.join(\"election_data.csv\")\n",
    "\n",
    "candidates = []\n",
    "\n",
    "with open(poll_path, newline='') as poll_csv:\n",
    "    csvreader = csv.reader(poll_csv, delimiter=',')\n",
    "    csv_header = next(csvreader)\n",
    "    \n",
    "    for row in csvreader:\n",
    "        candidates.append(row[2])\n",
    "    total_votes = len(candidates)\n",
    "    candidate_set = set(candidates)\n",
    "\n",
    "    print(\"Election Results\")\n",
    "    print(\"---------------------------\")\n",
    "    print(f\"Total Votes: {total_votes}\")\n",
    "    print(\"---------------------------\")\n",
    "    \n",
    "    wins = 0\n",
    "    winner = \"\"\n",
    "    results = dict((i, [candidates.count(i), candidates.count(i)/total_votes*100]) for i in candidate_set)\n",
    "    for candidate,value in results.items():\n",
    "        if value[0] > wins:\n",
    "            wins = value[0]\n",
    "            winner = candidate\n",
    "        print(f\"{candidate}: {round(value[1])}% ({value[0]})\")\n",
    "\n",
    "    print(\"---------------------------\")\n",
    "    print(f\"Winner: {winner}\")\n",
    "    print(\"---------------------------\")\n",
    "\n"
   ]
  },
  {
   "cell_type": "code",
   "execution_count": null,
   "metadata": {},
   "outputs": [],
   "source": []
  },
  {
   "cell_type": "code",
   "execution_count": null,
   "metadata": {},
   "outputs": [],
   "source": [
    "\n"
   ]
  },
  {
   "cell_type": "code",
   "execution_count": null,
   "metadata": {},
   "outputs": [],
   "source": []
  },
  {
   "cell_type": "code",
   "execution_count": 22,
   "metadata": {},
   "outputs": [],
   "source": [
    "output_path = os.path.join(\"pyPolltxt.txt\")\n",
    "with open(output_path, 'w', newline='') as csvfile:\n",
    "    csvwriter = csv.writer(csvfile, delimiter=',')\n",
    "\n",
    "    csvwriter.writerow([\"Election Results\"])\n",
    "    csvwriter.writerow([\"---------------------------\"])\n",
    "    csvwriter.writerow([f\"Total Votes: {total_votes}\"])\n",
    "    csvwriter.writerow([\"---------------------------\"])\n",
    "    \n",
    "    wins = 0\n",
    "    winner = \"\"\n",
    "    results = dict((i, [candidates.count(i), candidates.count(i)/total_votes*100]) for i in candidate_set)\n",
    "    for candidate,value in results.items():\n",
    "        if value[0] > wins:\n",
    "            wins = value[0]\n",
    "            winner = candidate\n",
    "        csvwriter.writerow([f\"{candidate}: {round(value[1])}% ({value[0]})\"])\n",
    "\n",
    "    csvwriter.writerow([\"---------------------------\"])\n",
    "    csvwriter.writerow([f\"Winner: {winner}\"])\n",
    "    csvwriter.writerow([\"---------------------------\"])\n",
    "\n"
   ]
  }
 ],
 "metadata": {
  "kernelspec": {
   "display_name": "Python 3",
   "language": "python",
   "name": "python3"
  },
  "language_info": {
   "codemirror_mode": {
    "name": "ipython",
    "version": 3
   },
   "file_extension": ".py",
   "mimetype": "text/x-python",
   "name": "python",
   "nbconvert_exporter": "python",
   "pygments_lexer": "ipython3",
   "version": "3.7.0"
  }
 },
 "nbformat": 4,
 "nbformat_minor": 2
}
